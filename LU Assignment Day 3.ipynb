{
 "cells": [
  {
   "cell_type": "markdown",
   "metadata": {},
   "source": [
    "# Question 1:Create a numpy array starting from 2 till 50 with a stepsize of 3."
   ]
  },
  {
   "cell_type": "code",
   "execution_count": 78,
   "metadata": {},
   "outputs": [
    {
     "name": "stdout",
     "output_type": "stream",
     "text": [
      "[ 2  5  8 11 14 17 20 23 26 29 32 35 38 41 44 47]\n"
     ]
    }
   ],
   "source": [
    "# importing numpy\n",
    "import numpy as np\n",
    "\n",
    "print(np.arange(2,50,3))"
   ]
  },
  {
   "cell_type": "markdown",
   "metadata": {},
   "source": [
    "# Question 2:Accept two lists of 5 elements each from the user.Convert them to numpy arrays. Concatenate these arrays and print it. Also sort these arrays and print it.\n"
   ]
  },
  {
   "cell_type": "code",
   "execution_count": 79,
   "metadata": {},
   "outputs": [
    {
     "name": "stdout",
     "output_type": "stream",
     "text": [
      "Enter the value for list1 : 1\n",
      "Enter the value for list1 : 5\n",
      "Enter the value for list1 : 7\n",
      "Enter the value for list1 : 0\n",
      "Enter the value for list1 : 2\n",
      "Enter the value for list2 : 20\n",
      "Enter the value for list2 : 17\n",
      "Enter the value for list2 : 19\n",
      "Enter the value for list2 : 4\n",
      "Enter the value for list2 : 14\n",
      "<class 'numpy.ndarray'>\n",
      "<class 'numpy.ndarray'>\n",
      "concatenated Array : [ 1  5  7  0  2 20 17 19  4 14]\n",
      "Sorted Array : [ 0  1  2  4  5  7 14 17 19 20]\n"
     ]
    }
   ],
   "source": [
    "list1 = []\n",
    "list2 = []\n",
    "\n",
    "# getting values for list1 from user:\n",
    "for i in range(5):\n",
    "  X=int(input(\"Enter the value for list1 : \"))\n",
    "  list1.append(X)\n",
    "\n",
    "# getting values for list2 from user:\n",
    "for i in range(5):\n",
    "  X=int(input(\"Enter the value for list2 : \"))\n",
    "  list2.append(X)\n",
    "\n",
    "# converting list into array:\n",
    "arr1 = np.array(list1)\n",
    "arr2 = np.array(list2)\n",
    "print(type(arr1))\n",
    "print(type(arr2))\n",
    "\n",
    "# concatenating 2 array:\n",
    "arr = np.concatenate((arr1, arr2))\n",
    "print(\"concatenated Array :\",arr)\n",
    "\n",
    "# sorting up concatenated array\n",
    "sortArr = np.sort(arr)\n",
    "print(\"Sorted Array :\",sortArr)"
   ]
  },
  {
   "cell_type": "markdown",
   "metadata": {},
   "source": [
    "# Question 3:Write a code snippet to find the dimensions of a ndarray and its size."
   ]
  },
  {
   "cell_type": "code",
   "execution_count": 80,
   "metadata": {},
   "outputs": [
    {
     "name": "stdout",
     "output_type": "stream",
     "text": [
      "No. of dimensions:  1\n",
      "Size of array:  3\n"
     ]
    }
   ],
   "source": [
    "ar = np.array([1,2,3])\n",
    "print(\"No. of dimensions: \", ar.ndim)\n",
    "print(\"Size of array: \", ar.size)"
   ]
  },
  {
   "cell_type": "markdown",
   "metadata": {},
   "source": [
    "# Question 4:How to convert a 1D array into a 2D array? Demonstrate with the help of a code snippet Hint: np.newaxis, np.expand_dims"
   ]
  },
  {
   "cell_type": "markdown",
   "metadata": {},
   "source": [
    "Using np.newaxis"
   ]
  },
  {
   "cell_type": "code",
   "execution_count": 82,
   "metadata": {},
   "outputs": [
    {
     "name": "stdout",
     "output_type": "stream",
     "text": [
      "Shape of Array : (5,)\n",
      "Shape of 2d Array in row major : (1, 5)\n",
      "\n",
      "Shape of 2d Array in column major : (5, 1)\n"
     ]
    }
   ],
   "source": [
    "arr = np.arange(5)\n",
    "print(\"Shape of Array :\",arr.shape)\n",
    "\n",
    "#rowwise\n",
    "row_arr = arr[np.newaxis, :]\n",
    "print(\"Shape of 2d Array in row major :\",row_arr.shape)\n",
    "\n",
    "#columnwise\n",
    "col_arr = arr[:, np.newaxis]\n",
    "print(\"\\nShape of 2d Array in column major :\",col_arr.shape)"
   ]
  },
  {
   "cell_type": "markdown",
   "metadata": {},
   "source": [
    "Using np.expand_dims"
   ]
  },
  {
   "cell_type": "code",
   "execution_count": 83,
   "metadata": {},
   "outputs": [
    {
     "name": "stdout",
     "output_type": "stream",
     "text": [
      "\n",
      "Shape of 2d Array in row major : (1, 5)\n",
      "\n",
      "Shape of 2d Array in column major : (5, 1)\n"
     ]
    }
   ],
   "source": [
    "#rowwise\n",
    "row_arr = np.expand_dims(arr, axis=0)\n",
    "print(\"\\nShape of 2d Array in row major :\",row_arr.shape)\n",
    "\n",
    "#column wise\n",
    "col_arr = np.expand_dims(arr, axis=1)\n",
    "print(\"\\nShape of 2d Array in column major :\",col_arr.shape)"
   ]
  },
  {
   "cell_type": "markdown",
   "metadata": {},
   "source": [
    "# Question 5:Consider two square numpy arrays. Stack them vertically and horizontally.Hint: Use vstack(), hstack()"
   ]
  },
  {
   "cell_type": "code",
   "execution_count": 84,
   "metadata": {},
   "outputs": [
    {
     "name": "stdout",
     "output_type": "stream",
     "text": [
      "[[ 1  7  3]\n",
      " [10  5  4]]\n"
     ]
    }
   ],
   "source": [
    "#stacking vertically\n",
    "arr1 = np.array([1, 7, 3])\n",
    "\n",
    "arr2 = np.array([10, 5, 4])\n",
    "\n",
    "arr = np.vstack((arr1, arr2))\n",
    "\n",
    "print(arr)\n"
   ]
  },
  {
   "cell_type": "code",
   "execution_count": 85,
   "metadata": {},
   "outputs": [
    {
     "name": "stdout",
     "output_type": "stream",
     "text": [
      "[ 1  7  3 10  5  4]\n"
     ]
    }
   ],
   "source": [
    "#stacking horizontally\n",
    "arr1 = np.array([1, 7, 3])\n",
    "\n",
    "arr2 = np.array([10, 5, 4])\n",
    "\n",
    "arr = np.hstack((arr1, arr2))\n",
    "\n",
    "print(arr)"
   ]
  },
  {
   "cell_type": "markdown",
   "metadata": {},
   "source": [
    "# Question 6:How to get unique items and counts of unique items?"
   ]
  },
  {
   "cell_type": "code",
   "execution_count": 86,
   "metadata": {},
   "outputs": [
    {
     "name": "stdout",
     "output_type": "stream",
     "text": [
      "[[ 1  2]\n",
      " [ 2  2]\n",
      " [ 3  1]\n",
      " [ 4  2]\n",
      " [ 5  2]\n",
      " [ 6  1]\n",
      " [ 7  1]\n",
      " [ 8  1]\n",
      " [ 9  1]\n",
      " [10  1]\n",
      " [16  1]\n",
      " [25  1]]\n"
     ]
    }
   ],
   "source": [
    "# creating an array \n",
    "arr_1 = np.array([1, 4, 9, 16, 25, 1, 4, 2, 3, 2, 5, 6, 5, 7, 8, 10])\n",
    "\n",
    "# getting unique charater and its count\n",
    "unique, counts = np.unique(arr_1, return_counts=True)\n",
    "\n",
    "arr = np.asarray((unique, counts)).T\n",
    "\n",
    "print(arr)"
   ]
  }
 ],
 "metadata": {
  "kernelspec": {
   "display_name": "Python 3",
   "language": "python",
   "name": "python3"
  },
  "language_info": {
   "codemirror_mode": {
    "name": "ipython",
    "version": 3
   },
   "file_extension": ".py",
   "mimetype": "text/x-python",
   "name": "python",
   "nbconvert_exporter": "python",
   "pygments_lexer": "ipython3",
   "version": "3.8.3"
  }
 },
 "nbformat": 4,
 "nbformat_minor": 4
}
